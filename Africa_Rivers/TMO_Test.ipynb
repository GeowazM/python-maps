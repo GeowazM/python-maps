{
 "cells": [
  {
   "cell_type": "code",
   "execution_count": 1,
   "metadata": {},
   "outputs": [],
   "source": [
    "import matplotlib.pyplot as plt\n",
    "import geopandas as gpd\n",
    "import pandas as pd\n",
    "import time\n",
    "import cartopy.crs as ccrs\n",
    "from shapely.geometry import Point"
   ]
  },
  {
   "cell_type": "code",
   "execution_count": 2,
   "metadata": {},
   "outputs": [],
   "source": [
    "import matplotlib\n",
    "# Say, \"the default sans-serif font is COMIC SANS\"\n",
    "matplotlib.rcParams['font.sans-serif'] = \"gabriola\"\n",
    "# Then, \"ALWAYS use sans-serif fonts\"\n",
    "matplotlib.rcParams['font.family'] = \"sans-serif\"\n"
   ]
  },
  {
   "cell_type": "code",
   "execution_count": 3,
   "metadata": {},
   "outputs": [],
   "source": [
    "logo = plt.imread('../../Branding/light_logo_1.png')"
   ]
  },
  {
   "cell_type": "code",
   "execution_count": 4,
   "metadata": {
    "scrolled": false
   },
   "outputs": [
    {
     "name": "stdout",
     "output_type": "stream",
     "text": [
      "--- 50.23800444602966 seconds ---\n",
      "        HYRIV_ID  NEXT_DOWN  MAIN_RIV  LENGTH_KM  DIST_DN_KM  DIST_UP_KM  \\\n",
      "0       70000001          0  70000001       1.72         0.0         5.6   \n",
      "1       70000002          0  70000002       3.38         0.0         8.3   \n",
      "2       70000003          0  70000003       1.94         0.0         7.8   \n",
      "3       70000004          0  70000004       1.12         0.0         8.5   \n",
      "4       70000005          0  70000005       5.95         0.0        10.1   \n",
      "...          ...        ...       ...        ...         ...         ...   \n",
      "986458  70986459          0  70986459      11.29         0.0        13.3   \n",
      "986459  70986460          0  70986460       1.81         0.0         4.5   \n",
      "986460  70986461          0  70986461       5.85         0.0        10.3   \n",
      "986461  70986462          0  70986462       0.69         0.0         2.4   \n",
      "986462  70986463          0  70986463       0.98         0.0         1.8   \n",
      "\n",
      "        CATCH_SKM  UPLAND_SKM  ENDORHEIC  DIS_AV_CMS  ORD_STRA  ORD_CLAS  \\\n",
      "0       14.990000   13.900000          0       0.121         1         1   \n",
      "1       25.740000   24.700001          0       0.196         1         1   \n",
      "2       13.760000   13.700000          0       0.160         1         1   \n",
      "3       10.410000   10.300000          0       0.116         1         1   \n",
      "4       21.010000   20.700001          0       0.242         1         1   \n",
      "...           ...         ...        ...         ...       ...       ...   \n",
      "986458  43.009998   42.799999          0       1.350         1         1   \n",
      "986459   8.090000    7.900000          0       0.246         1         1   \n",
      "986460  15.970000   28.100000          0       0.884         2         1   \n",
      "986461   5.130000    3.200000          0       0.196         1         1   \n",
      "986462   3.210000    2.600000          0       0.157         1         1   \n",
      "\n",
      "        ORD_FLOW     HYBAS_L12  Shape_Length  \\\n",
      "0              7  7.120027e+09      0.018035   \n",
      "1              7  7.120027e+09      0.041605   \n",
      "2              7  7.120027e+09      0.028809   \n",
      "3              7  7.120027e+09      0.014583   \n",
      "4              7  7.120027e+09      0.072646   \n",
      "...          ...           ...           ...   \n",
      "986458         6  7.120000e+09      0.101665   \n",
      "986459         7  7.120000e+09      0.016309   \n",
      "986460         7  7.120000e+09      0.052737   \n",
      "986461         7  7.120056e+09      0.006250   \n",
      "986462         7  7.120056e+09      0.008839   \n",
      "\n",
      "                                                 geometry  \n",
      "0       MULTILINESTRING ((-74.07292 62.65833, -74.0729...  \n",
      "1       MULTILINESTRING ((-74.18750 62.64375, -74.1937...  \n",
      "2       MULTILINESTRING ((-77.44167 62.54375, -77.4312...  \n",
      "3       MULTILINESTRING ((-77.07708 62.51250, -77.0770...  \n",
      "4       MULTILINESTRING ((-77.47083 62.50417, -77.4395...  \n",
      "...                                                   ...  \n",
      "986458  MULTILINESTRING ((-80.73542 7.30000, -80.73542...  \n",
      "986459  MULTILINESTRING ((-80.86875 7.22083, -80.86875...  \n",
      "986460  MULTILINESTRING ((-80.81042 7.25208, -80.81042...  \n",
      "986461  MULTILINESTRING ((-87.05417 5.54375, -87.06042...  \n",
      "986462  MULTILINESTRING ((-87.07083 5.51667, -87.06458...  \n",
      "\n",
      "[986463 rows x 16 columns]\n"
     ]
    }
   ],
   "source": [
    "\n",
    "start_time = time.time()\n",
    "\n",
    "africa_rivers = gpd.read_file(\"../../Nature/rivers/data/rivers/namerica/a00000009.gdbtable\")\n",
    "print(\"--- %s seconds ---\" % (time.time() - start_time))\n",
    "\n",
    "print(africa_rivers)"
   ]
  },
  {
   "cell_type": "code",
   "execution_count": 5,
   "metadata": {
    "scrolled": false
   },
   "outputs": [
    {
     "name": "stderr",
     "output_type": "stream",
     "text": [
      "C:\\Users\\symmy\\anaconda3\\envs\\pythonmaps\\lib\\site-packages\\IPython\\core\\interactiveshell.py:3338: FutureWarning: The `op` parameter is deprecated and will be removed in a future release. Please use the `predicate` parameter instead.\n",
      "  if await self.run_code(code, result, async_=asy):\n",
      "C:\\Users\\symmy\\anaconda3\\envs\\pythonmaps\\lib\\site-packages\\IPython\\core\\interactiveshell.py:3338: FutureWarning: The `op` parameter is deprecated and will be removed in a future release. Please use the `predicate` parameter instead.\n",
      "  if await self.run_code(code, result, async_=asy):\n"
     ]
    }
   ],
   "source": [
    "lakes = gpd.read_file(\"../../PythonMapsData/NaturalEarth/10m_physical/ne_10m_lakes.shp\")\n",
    "lakes = lakes.loc[lakes['featurecla'] == 'Lake']\n",
    "lakes = lakes.dropna(subset=['name'])\n",
    "\n",
    "country_shapefiles = gpd.read_file(\"../../PythonMapsData/NaturalEarth/10m_cultural/ne_10m_admin_0_countries.shp\")\n",
    "africa = country_shapefiles.loc[country_shapefiles['CONTINENT'] == 'North America']\n",
    "africa_lakes = gpd.sjoin(lakes, africa, op='intersects')\n",
    "africa_lakes = lakes.loc[lakes.index.isin(africa_lakes.index.tolist())]\n",
    "excluded_rivers = gpd.sjoin(africa_rivers, africa_lakes, op='within')\n",
    "africa_rivers = africa_rivers.loc[~africa_rivers.index.isin(excluded_rivers.index.tolist())]"
   ]
  },
  {
   "cell_type": "code",
   "execution_count": 6,
   "metadata": {},
   "outputs": [],
   "source": [
    "#africa_rivers_tmp = africa_rivers.loc[africa_rivers['ORD_FLOW'] < 7]\n"
   ]
  },
  {
   "cell_type": "code",
   "execution_count": 7,
   "metadata": {},
   "outputs": [
    {
     "name": "stdout",
     "output_type": "stream",
     "text": [
      "       SUB_BAS  TO_BAS  MAJ_BAS       SUB_NAME  \\\n",
      "0         1001    1005     1001  Upper Roanoke   \n",
      "1         1002    1004     1001       Banister   \n",
      "2         1003    1004     1001      Upper Dan   \n",
      "3         1004    1005     1001      Lower Dan   \n",
      "4         1005    -999     1001  Lower Roanoke   \n",
      "...        ...     ...      ...            ...   \n",
      "10548    50005    -999     4050      Greenland   \n",
      "10549    50005    -999     4050      Greenland   \n",
      "10550    50005    -999     4050      Greenland   \n",
      "10551    50005    -999     4050      Greenland   \n",
      "10552    50005    -999     4050      Greenland   \n",
      "\n",
      "                                   MAJ_NAME  SUB_AREA  MAJ_AREA  LEGEND  \\\n",
      "0      Gulf of Mexico, North Atlantic Coast      8689    701385       1   \n",
      "1      Gulf of Mexico, North Atlantic Coast      1540    701385       1   \n",
      "2      Gulf of Mexico, North Atlantic Coast      4403    701385       1   \n",
      "3      Gulf of Mexico, North Atlantic Coast      4204    701385       1   \n",
      "4      Gulf of Mexico, North Atlantic Coast      6496    701385       1   \n",
      "...                                     ...       ...       ...     ...   \n",
      "10548                  Arctic Ocean Islands   2166086   2166086    3050   \n",
      "10549                  Arctic Ocean Islands   2166086   2166086    3050   \n",
      "10550                  Arctic Ocean Islands   2166086   2166086    3050   \n",
      "10551                  Arctic Ocean Islands   2166086   2166086    3050   \n",
      "10552                  Arctic Ocean Islands   2166086   2166086    3050   \n",
      "\n",
      "                                                geometry  \n",
      "0      POLYGON ((-78.83750 37.37083, -78.83750 37.366...  \n",
      "1      POLYGON ((-78.76667 36.75000, -78.77083 36.750...  \n",
      "2      POLYGON ((-79.71250 36.78750, -79.71250 36.783...  \n",
      "3      POLYGON ((-78.76667 36.75000, -78.75833 36.750...  \n",
      "4      POLYGON ((-77.31667 36.27500, -77.31667 36.270...  \n",
      "...                                                  ...  \n",
      "10548  POLYGON ((-43.29633 59.90928, -43.29680 59.913...  \n",
      "10549  POLYGON ((-43.64584 59.88905, -43.66312 59.889...  \n",
      "10550  POLYGON ((-43.60906 59.85835, -43.61097 59.865...  \n",
      "10551  POLYGON ((-43.59200 59.83763, -43.60611 59.841...  \n",
      "10552  POLYGON ((-43.60753 59.81109, -43.61616 59.812...  \n",
      "\n",
      "[10553 rows x 9 columns]\n"
     ]
    }
   ],
   "source": [
    "basins = gpd.read_file(\"../../Nature/rivers/data/basins/namerica/hydrobasins_northam.shp\")\n",
    "print(basins)"
   ]
  },
  {
   "cell_type": "code",
   "execution_count": 8,
   "metadata": {},
   "outputs": [
    {
     "name": "stdout",
     "output_type": "stream",
     "text": [
      "      SUB_BAS  TO_BAS  MAJ_BAS      SUB_NAME                 MAJ_NAME  \\\n",
      "1226     7029    7030     1007  Roaring Fork  North America, Colorado   \n",
      "\n",
      "      SUB_AREA  MAJ_AREA  LEGEND  \\\n",
      "1226      3757    650155       7   \n",
      "\n",
      "                                               geometry  index_right  test  \n",
      "1226  POLYGON ((-106.98750 39.50833, -106.97917 39.5...            0  test  \n"
     ]
    }
   ],
   "source": [
    "location = Point(-107.23622532421432, 39.41894977595344)\n",
    "location_df = gpd.GeoDataFrame(pd.DataFrame({\"test\": [\"test\"]}), crs=\"EPSG:4326\", geometry = [location])\n",
    "basin = gpd.sjoin(basins, location_df, predicate=\"intersects\")\n",
    "print(basin)"
   ]
  },
  {
   "cell_type": "code",
   "execution_count": 9,
   "metadata": {},
   "outputs": [
    {
     "data": {
      "text/plain": [
       "<AxesSubplot:>"
      ]
     },
     "execution_count": 9,
     "metadata": {},
     "output_type": "execute_result"
    },
    {
     "data": {
      "image/png": "[encoded data removed]",
      "text/plain": [
       "<Figure size 640x480 with 1 Axes>"
      ]
     },
     "metadata": {},
     "output_type": "display_data"
    }
   ],
   "source": [
    "basins = basins.loc[basins['MAJ_NAME'] == 'North America, Colorado']\n",
    "basins.plot()"
   ]
  },
  {
   "cell_type": "code",
   "execution_count": null,
   "metadata": {},
   "outputs": [
    {
     "name": "stderr",
     "output_type": "stream",
     "text": [
      "C:\\Users\\symmy\\anaconda3\\envs\\pythonmaps\\lib\\site-packages\\IPython\\core\\interactiveshell.py:3338: FutureWarning: The `op` parameter is deprecated and will be removed in a future release. Please use the `predicate` parameter instead.\n",
      "  if await self.run_code(code, result, async_=asy):\n"
     ]
    }
   ],
   "source": [
    "rivers_basins = gpd.sjoin(africa_rivers, basins, op='within')\n",
    "print(rivers_basins)"
   ]
  },
  {
   "cell_type": "code",
   "execution_count": null,
   "metadata": {},
   "outputs": [],
   "source": [
    "from shapely.ops import unary_union\n",
    "\n",
    "x = unary_union(basins.geometry.tolist())\n",
    "y = x.boundary\n",
    "namerica = gpd.GeoDataFrame(pd.DataFrame({'name': ['North America']}), crs=\"EPSG:4326\", geometry=[y])"
   ]
  },
  {
   "cell_type": "code",
   "execution_count": null,
   "metadata": {},
   "outputs": [],
   "source": [
    "import numpy as np\n",
    "\n",
    "def scale_lw(df: gpd.GeoDataFrame, column_name: str, min_value: float = 0.005, max_value: float = 0.6):\n",
    "    leftSpan = np.amax(df[column_name]) - np.amin(df[column_name])\n",
    "    rightSpan = max_value - min_value\n",
    "    valueScaled = (df[column_name] - np.amin(df[column_name])) / leftSpan\n",
    "    df[f'LW_{column_name}'] = min_value + (valueScaled * rightSpan)\n",
    "    return df\n",
    "\n",
    "rivers_basins = scale_lw(rivers_basins, 'DIST_UP_KM', min_value=0.06, max_value=0.6)"
   ]
  },
  {
   "cell_type": "code",
   "execution_count": null,
   "metadata": {},
   "outputs": [],
   "source": [
    "print(rivers_basins)"
   ]
  },
  {
   "cell_type": "code",
   "execution_count": null,
   "metadata": {},
   "outputs": [],
   "source": [
    "fig, ax = plt.subplots(facecolor='#FCF6F5FF')\n",
    "fig.set_size_inches(7, 3.5)\n",
    "\n",
    "rivers_basins.plot(ax=ax, edgecolor='face', color='darkblue', lw=rivers_basins['LW_DIST_UP_KM'])\n",
    "namerica.plot(ax=ax, color=\"black\", lw=0.1)\n",
    "location_df.plot(ax=ax, color=\"black\", marker=\"*\")\n",
    "ax.axis('off')\n",
    "#ax.set_xlim(-170, -50)\n",
    "plt.savefig(\"outputs/namerica_website.jpeg\", dpi=600, bbox_inches='tight')\n",
    "plt.show()"
   ]
  },
  {
   "cell_type": "code",
   "execution_count": null,
   "metadata": {},
   "outputs": [],
   "source": [
    "fig, ax = plt.subplots(facecolor='#FCF6F5FF')\n",
    "fig.set_size_inches(3.5, 7)\n",
    "\n",
    "\n",
    "rivers_basins.plot(ax=ax, edgecolor='face', color='blue', lw=rivers_basins['LW_DEPTH'])\n",
    "africa_lakes.plot(ax=ax, color='#FCF6F5FF')\n",
    "\n",
    "newax = fig.add_axes([0.83, 0.62, 0.1, 0.1], anchor='NE', zorder=-1)\n",
    "newax.imshow(logo)\n",
    "newax.axis('off')\n",
    "txt = ax.text(0.02, 0.03, \"African Rivers \\n@PythonMaps\",\n",
    "              size=6,\n",
    "              color='grey',\n",
    "              transform = ax.transAxes,\n",
    "              fontfamily='fantasy')\n",
    "\n",
    "ax.axis('off')\n",
    "plt.tight_layout()\n",
    "plt.savefig(\"outputs/raw5.png\", dpi=600, bbox_inches='tight')\n",
    "plt.show()"
   ]
  },
  {
   "cell_type": "code",
   "execution_count": null,
   "metadata": {},
   "outputs": [],
   "source": [
    "fig, ax = plt.subplots(facecolor='#FCF6F5FF')\n",
    "fig.set_size_inches(3.5, 7)\n",
    "\n",
    "\n",
    "rivers_basins.plot(ax=ax, edgecolor='face', color='blue', lw=rivers_basins['LW_DEPTH'])\n",
    "africa_lakes.plot(ax=ax, color='#FCF6F5FF')\n",
    "\n",
    "newax = fig.add_axes([0.83, 0.62, 0.1, 0.1], anchor='NE', zorder=-1)\n",
    "newax.imshow(logo)\n",
    "newax.axis('off')\n",
    "txt = ax.text(0.02, 0.03, \"African Rivers \\n@PythonMaps\",\n",
    "              size=6,\n",
    "              color='grey',\n",
    "              transform = ax.transAxes,\n",
    "              fontfamily='fantasy')\n",
    "\n",
    "ax.axis('off')\n",
    "plt.tight_layout()\n",
    "plt.savefig(\"outputs/raw5.png\", dpi=600, bbox_inches='tight')\n",
    "plt.show()"
   ]
  },
  {
   "cell_type": "code",
   "execution_count": null,
   "metadata": {},
   "outputs": [],
   "source": [
    "fig, ax = plt.subplots(facecolor='#FCF6F5FF')\n",
    "fig.set_size_inches(3.5, 7)\n",
    "\n",
    "\n",
    "rivers_basins.plot(ax=ax, edgecolor='face', color=rivers_basins['colors'], lw=rivers_basins['LW_DEPTH'])\n",
    "africa_lakes.plot(ax=ax, color='#FCF6F5FF')\n",
    "\n",
    "newax = fig.add_axes([0.83, 0.62, 0.1, 0.1], anchor='NE', zorder=-1)\n",
    "newax.imshow(logo)\n",
    "newax.axis('off')\n",
    "txt = ax.text(0.02, 0.03, \"African Rivers \\n@PythonMaps\",\n",
    "              size=6,\n",
    "              color='grey',\n",
    "              transform = ax.transAxes,\n",
    "              fontfamily='fantasy')\n",
    "\n",
    "ax.axis('off')\n",
    "plt.tight_layout()\n",
    "plt.savefig(\"outputs/raw6.png\", dpi=600, bbox_inches='tight')\n",
    "plt.show()"
   ]
  },
  {
   "cell_type": "code",
   "execution_count": null,
   "metadata": {},
   "outputs": [],
   "source": [
    "africa_rivers = gpd.read_file(\"../../Nature/rivers/data/rivers/africa/a00000009.gdbtable\")\n",
    "\n",
    "print(africa_rivers)"
   ]
  },
  {
   "cell_type": "code",
   "execution_count": null,
   "metadata": {},
   "outputs": [],
   "source": [
    "tmp_df = africa_rivers.loc[africa_rivers['ORD_FLOW'] < 8]"
   ]
  },
  {
   "cell_type": "code",
   "execution_count": null,
   "metadata": {},
   "outputs": [],
   "source": [
    "leftSpan = np.amax(tmp_df['DIST_UP_KM']) - np.amin(tmp_df['DIST_UP_KM'])\n",
    "rightSpan = 0.7 - 0.01\n",
    "valueScaled = (tmp_df['DIST_UP_KM'] - np.amin(tmp_df['DIST_UP_KM'])) / leftSpan\n",
    "tmp_df['lw'] = 0.01 + (valueScaled * rightSpan)"
   ]
  },
  {
   "cell_type": "code",
   "execution_count": null,
   "metadata": {},
   "outputs": [],
   "source": [
    "import matplotlib.pyplot as plt\n",
    "\n",
    "fig, ax = plt.subplots(facecolor='#FCF6F5FF')\n",
    "fig.set_size_inches(5, 7)\n",
    "\n",
    "tmp_df.plot(ax=ax, color='blue', lw=tmp_df['lw'])\n",
    "africa_lakes.plot(ax=ax, color='blue', alpha=1)\n",
    "\n",
    "ax.axis('off')\n",
    "\n",
    "plt.savefig(\"outputs/thumbnail.png\", dpi=600, bbox_inches='tight')\n",
    "plt.show()"
   ]
  },
  {
   "cell_type": "code",
   "execution_count": null,
   "metadata": {},
   "outputs": [],
   "source": [
    "import matplotlib.pyplot as plt\n",
    "\n",
    "fig, ax = plt.subplots(facecolor='#FCF6F5FF')\n",
    "fig.set_size_inches(5, 7)\n",
    "\n",
    "tmp_df.plot(ax=ax, color='blue', lw=tmp_df['lw'])\n",
    "africa_lakes.plot(ax=ax, color='blue', alpha=1)\n",
    "\n",
    "ax.axis('off')\n",
    "ax.set_ylim(-20, 20)\n",
    "plt.savefig(\"outputs/thumbnail.png\", dpi=600, bbox_inches='tight')\n",
    "plt.show()"
   ]
  },
  {
   "cell_type": "code",
   "execution_count": null,
   "metadata": {},
   "outputs": [],
   "source": []
  }
 ],
 "metadata": {
  "kernelspec": {
   "display_name": "Python 3 (ipykernel)",
   "language": "python",
   "name": "python3"
  },
  "language_info": {
   "codemirror_mode": {
    "name": "ipython",
    "version": 3
   },
   "file_extension": ".py",
   "mimetype": "text/x-python",
   "name": "python",
   "nbconvert_exporter": "python",
   "pygments_lexer": "ipython3",
   "version": "3.8.13"
  }
 },
 "nbformat": 4,
 "nbformat_minor": 4
}
