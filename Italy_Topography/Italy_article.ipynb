{
 "cells": [
  {
   "cell_type": "code",
   "execution_count": 1,
   "metadata": {},
   "outputs": [
    {
     "name": "stdout",
     "output_type": "stream",
     "text": [
      "(1, 9600, 14400)\n",
      "4712\n",
      "-81\n"
     ]
    }
   ],
   "source": [
    "import rasterio\n",
    "import matplotlib.pyplot as plt\n",
    "import numpy as np\n",
    "\n",
    "\n",
    "file = rasterio.open('../../Topography/country_topography/data/30N000E_20101117_gmted_mea075.tif')\n",
    "dataset = file.read()\n",
    "print(dataset.shape)\n",
    "print(np.amax(dataset))\n",
    "print(np.amin(dataset))"
   ]
  },
  {
   "cell_type": "code",
   "execution_count": null,
   "metadata": {},
   "outputs": [],
   "source": [
    "plt.figure(figsize=(10,10))\n",
    "plt.imshow(dataset[0], cmap='Spectral')\n",
    "plt.savefig(\"outputs/article_image_1.png\", dpi=600, bbox_inches='tight')\n",
    "plt.show()"
   ]
  },
  {
   "cell_type": "code",
   "execution_count": null,
   "metadata": {},
   "outputs": [],
   "source": [
    "import geopandas as gpd\n",
    "from shapely.geometry import mapping\n",
    "from rasterio import mask as msk \n",
    "\n",
    "df = gpd.read_file('../../PythonMapsData/NaturalEarth/10m_cultural/ne_10m_admin_0_countries.shp')\n",
    "\n",
    "italy = df.loc[df['ADMIN'] == 'Italy']\n",
    "\n",
    "clipped_array, clipped_transform = msk.mask(file, [mapping(italy.iloc[0].geometry)], crop=True)\n",
    "\n",
    "plt.figure(figsize=(10,10))\n",
    "plt.imshow(clipped_array[0], cmap='Spectral')\n",
    "plt.savefig(\"outputs/article_image_2.png\", dpi=600, bbox_inches='tight')\n",
    "plt.show()"
   ]
  },
  {
   "cell_type": "code",
   "execution_count": null,
   "metadata": {},
   "outputs": [],
   "source": [
    "import numpy as np\n",
    "\n",
    "def clip_raster(gdf, img):\n",
    "    clipped_array, clipped_transform = msk.mask(img, [mapping(gdf.iloc[0].geometry)], crop=True)\n",
    "    clipped_array, clipped_transform = msk.mask(img, [mapping(gdf.iloc[0].geometry)], \n",
    "                                                          crop=True, nodata=(np.amax(clipped_array[0]) + 1))\n",
    "    clipped_array[0] = clipped_array[0] + abs(np.amin(clipped_array))\n",
    "    value_range = np.amax(clipped_array) + abs(np.amin(clipped_array))\n",
    "    return clipped_array, value_range"
   ]
  },
  {
   "cell_type": "code",
   "execution_count": null,
   "metadata": {},
   "outputs": [],
   "source": [
    "italy_topography, value_range = clip_raster(italy, file)\n",
    "\n",
    "plt.figure(figsize=(10,10))\n",
    "c = plt.imshow(italy_topography[0], cmap='Spectral')\n",
    "plt.colorbar(c, fraction=0.046, pad=0.04)\n",
    "plt.savefig(\"outputs/article_image_3.png\", dpi=600, bbox_inches='tight')\n",
    "plt.show()"
   ]
  },
  {
   "cell_type": "code",
   "execution_count": null,
   "metadata": {},
   "outputs": [],
   "source": [
    "from matplotlib.colors import LinearSegmentedColormap\n",
    "italy_colormap = LinearSegmentedColormap.from_list('italy', ['#008C45', '#0b914c', '#F4F5F0', '#cf2a32', '#CD212A'], N=value_range)\n",
    "italy_colormap = LinearSegmentedColormap.from_list('italy', ['#008C45', '#0b914c', '#F4F5F0', '#CD212A'], N=value_range)"
   ]
  },
  {
   "cell_type": "code",
   "execution_count": null,
   "metadata": {},
   "outputs": [],
   "source": [
    "gradient = np.linspace(0, 1, 256)\n",
    "gradient = np.vstack((gradient, gradient))\n",
    "plt.imshow(gradient, aspect='auto', cmap=italy_colormap)\n",
    "plt.axis('off')\n",
    "plt.savefig(\"outputs/article_image_4.png\", dpi=600, bbox_inches='tight')\n",
    "plt.show()"
   ]
  },
  {
   "cell_type": "code",
   "execution_count": null,
   "metadata": {},
   "outputs": [],
   "source": [
    "from matplotlib.colors import ListedColormap\n",
    "\n",
    "background_color = np.array([0.9882352941176471, 0.9647058823529412, 0.9607843137254902, 1.0])\n",
    "newcolors = italy_colormap(np.linspace(0, 1, value_range))\n",
    "newcolors = np.vstack((newcolors, background_color))\n",
    "italy_colormap = ListedColormap(newcolors)"
   ]
  },
  {
   "cell_type": "code",
   "execution_count": null,
   "metadata": {},
   "outputs": [],
   "source": [
    "from matplotlib import colors\n",
    "\n",
    "fig = plt.figure(facecolor='#FCF6F5FF')\n",
    "fig.set_size_inches(7, 3.5)\n",
    "ax = plt.axes()\n",
    "plt.imshow(italy_topography[0], cmap=italy_colormap, norm=colors.LogNorm())\n",
    "ax.axis('off')\n",
    "plt.savefig(\"outputs/article_image_5.png\", dpi=600, bbox_inches='tight')\n",
    "\n",
    "plt.show()"
   ]
  },
  {
   "cell_type": "code",
   "execution_count": null,
   "metadata": {},
   "outputs": [],
   "source": [
    "import earthpy.spatial as es\n",
    "\n",
    "hillshade = es.hillshade(italy_topography[0], azimuth=240, altitude=1)\n"
   ]
  },
  {
   "cell_type": "code",
   "execution_count": null,
   "metadata": {},
   "outputs": [],
   "source": [
    "\n",
    "fig = plt.figure(figsize=(10, 10))\n",
    "hillshade = es.hillshade(italy_topography[0], azimuth=0, altitude=1)\n",
    "ax1 = plt.subplot(2,2,1)\n",
    "ax1.imshow(hillshade, cmap=\"Greys\")\n",
    "ax1.axis('off')\n",
    "ax1.set_title(\"Azimuth = 0 degrees (Altitude = 1)\")\n",
    "\n",
    "hillshade = es.hillshade(italy_topography[0], azimuth=90, altitude=1)\n",
    "ax2 = plt.subplot(2,2,2)\n",
    "ax2.imshow(hillshade, cmap=\"Greys\")\n",
    "ax2.axis('off')\n",
    "ax2.set_title(\"Azimuth = 90 degrees (Altitude = 1)\")\n",
    "\n",
    "hillshade = es.hillshade(italy_topography[0], azimuth=180, altitude=1)\n",
    "ax3 = plt.subplot(2,2,3)\n",
    "ax3.imshow(hillshade, cmap=\"Greys\")\n",
    "ax3.axis('off')\n",
    "ax3.set_title(\"Azimuth = 180 degrees (Altitude = 1)\")\n",
    "\n",
    "hillshade = es.hillshade(italy_topography[0], azimuth=270, altitude=1)\n",
    "ax4 = plt.subplot(2,2,4)\n",
    "ax4.imshow(hillshade, cmap=\"Greys\")\n",
    "ax4.axis('off')\n",
    "ax4.set_title(\"Azimuth = 270 degrees (Altitude = 1)\")\n",
    "\n",
    "plt.savefig(\"outputs/article_image_6.png\", dpi=600, bbox_inches='tight')\n",
    "plt.show()"
   ]
  },
  {
   "cell_type": "code",
   "execution_count": null,
   "metadata": {},
   "outputs": [],
   "source": [
    "\n",
    "fig = plt.figure(figsize=(10, 10))\n",
    "hillshade = es.hillshade(italy_topography[0], azimuth=180, altitude=1)\n",
    "ax1 = plt.subplot(2,2,1)\n",
    "ax1.imshow(hillshade, cmap=\"Greys\")\n",
    "ax1.axis('off')\n",
    "ax1.set_title(\"Altitude = 0 (Azimuth = 180)\")\n",
    "\n",
    "hillshade = es.hillshade(italy_topography[0], azimuth=180, altitude=30)\n",
    "ax2 = plt.subplot(2,2,2)\n",
    "ax2.imshow(hillshade, cmap=\"Greys\")\n",
    "ax2.axis('off')\n",
    "ax2.set_title(\"Altitude = 30 (Azimuth = 180)\")\n",
    "\n",
    "hillshade = es.hillshade(italy_topography[0], azimuth=180, altitude=60)\n",
    "ax3 = plt.subplot(2,2,3)\n",
    "ax3.imshow(hillshade, cmap=\"Greys\")\n",
    "ax3.axis('off')\n",
    "ax3.set_title(\"Altitude = 60 (Azimuth = 180)\")\n",
    "\n",
    "hillshade = es.hillshade(italy_topography[0], azimuth=180, altitude=90)\n",
    "ax4 = plt.subplot(2,2,4)\n",
    "ax4.imshow(hillshade, cmap=\"Greys\")\n",
    "ax4.axis('off')\n",
    "ax4.set_title(\"Altitude = 90 (Azimuth = 180)\")\n",
    "\n",
    "plt.savefig(\"outputs/article_image_7.png\", dpi=600, bbox_inches='tight')\n",
    "plt.show()"
   ]
  },
  {
   "cell_type": "code",
   "execution_count": null,
   "metadata": {},
   "outputs": [],
   "source": [
    "hillshade = es.hillshade(italy_topography[0], azimuth=180, altitude=1)\n",
    "\n",
    "fig, ax = plt.subplots()\n",
    "fig.set_size_inches(5, 5)\n",
    "i = plt.imshow(italy_topography[0], cmap=italy_colormap, norm=colors.LogNorm())\n",
    "ax.imshow(hillshade, cmap=\"Greys\", alpha=0.3)\n",
    "ax.axis('off')\n",
    "\n",
    "logo = plt.imread('../../globe.png')\n",
    "newax = fig.add_axes([0.79, 0.78, 0.08, 0.08], anchor='NE')\n",
    "newax.imshow(logo)\n",
    "newax.axis('off')\n",
    "txt = ax.text(0.02, 0.03, \"Italy Topography \\n@PythonMaps\",\n",
    "              size=6,\n",
    "              color='grey',\n",
    "              transform = ax.transAxes,\n",
    "              fontfamily='fantasy')\n",
    "\n",
    "\n",
    "plt.savefig(\"outputs/italy.png\", dpi=600, bbox_inches='tight')\n",
    "plt.show()"
   ]
  },
  {
   "cell_type": "code",
   "execution_count": null,
   "metadata": {},
   "outputs": [],
   "source": [
    "hillshade = es.hillshade(italy_topography[0], azimuth=180, altitude=1)\n",
    "\n",
    "fig, ax = plt.subplots()\n",
    "fig.set_size_inches(5, 5)\n",
    "i = plt.imshow(italy_topography[0], cmap=italy_colormap, norm=colors.LogNorm())\n",
    "ax.imshow(hillshade, cmap=\"Greys\", alpha=0.3)\n",
    "ax.axis('off')\n",
    "\n",
    "ax.set_ylim(2000, 0)\n",
    "ax.set_xlim(0, 4000)\n",
    "\n",
    "plt.savefig(\"outputs/po_valley.png\", dpi=600, bbox_inches='tight')\n",
    "plt.show()"
   ]
  },
  {
   "cell_type": "code",
   "execution_count": null,
   "metadata": {},
   "outputs": [],
   "source": []
  }
 ],
 "metadata": {
  "kernelspec": {
   "display_name": "Python 3",
   "language": "python",
   "name": "python3"
  },
  "language_info": {
   "codemirror_mode": {
    "name": "ipython",
    "version": 3
   },
   "file_extension": ".py",
   "mimetype": "text/x-python",
   "name": "python",
   "nbconvert_exporter": "python",
   "pygments_lexer": "ipython3",
   "version": "3.8.5"
  }
 },
 "nbformat": 4,
 "nbformat_minor": 4
}
